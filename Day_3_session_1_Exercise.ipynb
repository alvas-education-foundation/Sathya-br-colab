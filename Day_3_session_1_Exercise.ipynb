{
  "nbformat": 4,
  "nbformat_minor": 0,
  "metadata": {
    "colab": {
      "name": "Day 3 session 1 Exercise.ipynb",
      "provenance": [],
      "collapsed_sections": [],
      "include_colab_link": true
    },
    "kernelspec": {
      "name": "python3",
      "display_name": "Python 3"
    }
  },
  "cells": [
    {
      "cell_type": "markdown",
      "metadata": {
        "id": "view-in-github",
        "colab_type": "text"
      },
      "source": [
        "<a href=\"https://colab.research.google.com/github/alvas-education-foundation/Sathya-br-colab/blob/master/Day_3_session_1_Exercise.ipynb\" target=\"_parent\"><img src=\"https://colab.research.google.com/assets/colab-badge.svg\" alt=\"Open In Colab\"/></a>"
      ]
    },
    {
      "cell_type": "markdown",
      "metadata": {
        "id": "iF9oh72QH9ks",
        "colab_type": "text"
      },
      "source": [
        "# Write a Python program to find numbers between 100 and 400 (both included) which are divisable both by 5 or 7. The numbers obtained should be printed in a comma-separated sequence"
      ]
    },
    {
      "cell_type": "code",
      "metadata": {
        "id": "kg1AJ0INKTDs",
        "colab_type": "code",
        "colab": {
          "base_uri": "https://localhost:8080/",
          "height": 55
        },
        "outputId": "edcdea15-5950-4187-949e-183f1f68ebab"
      },
      "source": [
        " a = [print(x,end = ',') for x in range(100,401) if x%5 is 0 or x%7 is 0]"
      ],
      "execution_count": null,
      "outputs": [
        {
          "output_type": "stream",
          "text": [
            "100,105,110,112,115,119,120,125,126,130,133,135,140,145,147,150,154,155,160,161,165,168,170,175,180,182,185,189,190,195,196,200,203,205,210,215,217,220,224,225,230,231,235,238,240,245,250,252,255,259,260,265,266,270,273,275,280,285,287,290,294,295,300,301,305,308,310,315,320,322,325,329,330,335,336,340,343,345,350,355,357,360,364,365,370,371,375,378,380,385,390,392,395,399,400,"
          ],
          "name": "stdout"
        }
      ]
    },
    {
      "cell_type": "markdown",
      "metadata": {
        "id": "GKAgxv6LKVv5",
        "colab_type": "text"
      },
      "source": [
        "# Write a Python program to find  prime numbers between 200 and 600 (both included). The numbers obtained should be printed in a comma-separated sequence"
      ]
    },
    {
      "cell_type": "code",
      "metadata": {
        "id": "ImdxargtKePM",
        "colab_type": "code",
        "colab": {
          "base_uri": "https://localhost:8080/",
          "height": 55
        },
        "outputId": "721c5162-e4db-4e2d-adde-6ea4e3d9d6ff"
      },
      "source": [
        " for x in range(200,601):\n",
        "  for y in range(2,x//2+1):\n",
        "    if x%y == 0:\n",
        "      break\n",
        "  else:\n",
        "    print(x,end=',')"
      ],
      "execution_count": null,
      "outputs": [
        {
          "output_type": "stream",
          "text": [
            "211,223,227,229,233,239,241,251,257,263,269,271,277,281,283,293,307,311,313,317,331,337,347,349,353,359,367,373,379,383,389,397,401,409,419,421,431,433,439,443,449,457,461,463,467,479,487,491,499,503,509,521,523,541,547,557,563,569,571,577,587,593,599,"
          ],
          "name": "stdout"
        }
      ]
    },
    {
      "cell_type": "markdown",
      "metadata": {
        "id": "SzxFJ_UGKpDr",
        "colab_type": "text"
      },
      "source": [
        "# Write a Python program to find All Numbers which are Odd and Palindromes Between a Range of Numbers without using Recursion. The numbers obtained should be printed in a comma-separated sequence"
      ]
    },
    {
      "cell_type": "code",
      "metadata": {
        "id": "tplm0UnJKtCi",
        "colab_type": "code",
        "colab": {
          "base_uri": "https://localhost:8080/",
          "height": 71
        },
        "outputId": "45cebfd6-91fb-4f71-ff72-e93704e6bf11"
      },
      "source": [
        " \n",
        "a = [print(x,end=',') for x in range(int(input('Enter Lower range: ')),int(input('Enter Upper range: '))) if x%2 and str(x) == str(x)[::-1]]"
      ],
      "execution_count": null,
      "outputs": [
        {
          "output_type": "stream",
          "text": [
            "Enter Lower range: 2\n",
            "Enter Upper range: 8\n",
            "3,5,7,"
          ],
          "name": "stdout"
        }
      ]
    },
    {
      "cell_type": "markdown",
      "metadata": {
        "id": "mxDdyOIjLEXu",
        "colab_type": "text"
      },
      "source": [
        "# Write a Python Program to read a number n and print the series “5+10+…..+n = sum upto n ” . The numbers should be printed  as they are  shown in the quotes with sum of numbers upto n"
      ]
    },
    {
      "cell_type": "code",
      "metadata": {
        "id": "MfeyYRFXLRFn",
        "colab_type": "code",
        "colab": {
          "base_uri": "https://localhost:8080/",
          "height": 53
        },
        "outputId": "ef4fe232-bfbd-4844-d005-45d45fb51ce6"
      },
      "source": [
        " arr = [x for x in range(5,int(input('Enter a no: '))+1,5)]\n",
        "print('+'.join([str(i) for i in arr]),'=',sum(arr))"
      ],
      "execution_count": null,
      "outputs": [
        {
          "output_type": "stream",
          "text": [
            "Enter a no: 11\n",
            "5+10 = 15\n"
          ],
          "name": "stdout"
        }
      ]
    }
  ]
}